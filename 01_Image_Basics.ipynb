{
 "cells": [
  {
   "cell_type": "code",
   "execution_count": null,
   "id": "8a58364b-7c97-4bcd-919e-1a270b434e40",
   "metadata": {},
   "outputs": [],
   "source": [
    "#Import neccessary libraries\n",
    "import cv2\n",
    "from matplotlib import pyplot as plt\n",
    "%matplotlib inline\n",
    "import numpy as np\n",
    "from IPython.display import Image"
   ]
  },
  {
   "cell_type": "code",
   "execution_count": null,
   "id": "85bc8800",
   "metadata": {},
   "outputs": [],
   "source": [
    "#read image as grayscale\n",
    "\n",
    "img = cv2.imread('checkerboard_18x18.png',0)# 0- grayscale\n",
    "print(img.shape, img.dtype) #shape, dtype"
   ]
  },
  {
   "cell_type": "code",
   "execution_count": null,
   "id": "c0c8d7f4",
   "metadata": {},
   "outputs": [],
   "source": [
    "plt.imshow(img,cmap='gray') #display image using matplotlib"
   ]
  },
  {
   "cell_type": "code",
   "execution_count": null,
   "id": "badd4f43",
   "metadata": {},
   "outputs": [],
   "source": [
    "img = cv2.imread('coca-cola-logo.png',1) #Color image. Since OpenCV reads in BGR format. convert it into RGB first\n",
    "img = img[:,:,::-1]\n",
    "plt.imshow(img)"
   ]
  },
  {
   "cell_type": "code",
   "execution_count": null,
   "id": "9e638bc3",
   "metadata": {},
   "outputs": [],
   "source": [
    "#splitting and merging color channels\n",
    "#cv2.split - splits the image and cv2.merge - merges the image\n",
    "\n",
    "img = cv2.imread('New_Zealand_Lake.jpg', cv2.IMREAD_COLOR)\n",
    "\n",
    "b,g,r = cv2.split(img)\n",
    "\n",
    "plt.figure(figsize=(20,5))\n",
    "\n",
    "plt.subplot(141)\n",
    "plt.imshow(b,cmap='gray')\n",
    "plt.title(\"Blue Channel\")\n",
    "\n",
    "plt.subplot(142); plt.imshow(g,cmap='gray'); plt.title(\"Green Channel\")\n",
    "plt.subplot(143); plt.imshow(r, cmap='gray'); plt.title(\"Red Channel\")\n",
    "\n",
    "merge_img = cv2.merge((b,g,r))\n",
    "merge_img = merge_img[:,:,::-1]\n",
    "plt.subplot(144); plt.imshow(merge_img); plt.title(\"Merged image\")\n"
   ]
  },
  {
   "cell_type": "code",
   "execution_count": null,
   "id": "d2129ed7",
   "metadata": {},
   "outputs": [],
   "source": [
    "#Converting to different color spaces\n",
    "\n",
    "#dst = cv2.cvtcolor(src, code-color space)\n",
    "\n",
    "img = cv2.cvtColor(img, cv2.COLOR_BGR2RGB)\n",
    "plt.imshow(img)"
   ]
  },
  {
   "cell_type": "code",
   "execution_count": null,
   "id": "97534115",
   "metadata": {},
   "outputs": [],
   "source": [
    "img = cv2.imread('New_Zealand_Lake.jpg', cv2.IMREAD_COLOR)\n",
    "img_hsv = cv2.cvtColor(img, cv2.COLOR_BGR2HSV)\n",
    "h,s,v = cv2.split(img_hsv)\n",
    "h = h+10\n",
    "img_merge = cv2.merge((h,s,v))\n",
    "img_conv = cv2.cvtColor(img_merge, cv2.COLOR_HSV2BGR)\n",
    "plt.figure(figsize = (20,5))\n",
    "plt.subplot(141); plt.imshow(h,cmap='gray'); plt.title(\"H Channel\")\n",
    "plt.subplot(142); plt.imshow(s,cmap='gray'); plt.title(\"S Channel\")\n",
    "plt.subplot(143); plt.imshow(v, cmap='gray'); plt.title(\"V Channel\")\n",
    "plt.subplot(144); plt.imshow(img_conv); plt.title(\"Merge Channel\")\n",
    "plt.imshow(img)"
   ]
  },
  {
   "cell_type": "code",
   "execution_count": null,
   "id": "1376496d",
   "metadata": {},
   "outputs": [],
   "source": [
    "#save the image\n",
    "cv2.imwrite('a.jpg',img_hsv)"
   ]
  },
  {
   "cell_type": "code",
   "execution_count": null,
   "id": "fdb11ee6",
   "metadata": {},
   "outputs": [],
   "source": [
    "#Opencv cv2.imshow()\n",
    "\n",
    "#create a named window. call opencv cv2.imshow . call waitkey function\n",
    "window1 = cv2.namedWindow(\"w1\")\n",
    "cv2.imshow(window1, img_merge)\n",
    "cv2.waitKey(-1)"
   ]
  }
 ],
 "metadata": {
  "kernelspec": {
   "display_name": "Python 3 (ipykernel)",
   "language": "python",
   "name": "python3"
  },
  "language_info": {
   "codemirror_mode": {
    "name": "ipython",
    "version": 3
   },
   "file_extension": ".py",
   "mimetype": "text/x-python",
   "name": "python",
   "nbconvert_exporter": "python",
   "pygments_lexer": "ipython3",
   "version": "3.8.19"
  }
 },
 "nbformat": 4,
 "nbformat_minor": 5
}
